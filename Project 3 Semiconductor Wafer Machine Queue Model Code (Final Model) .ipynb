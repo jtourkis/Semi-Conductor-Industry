{
 "cells": [
  {
   "cell_type": "markdown",
   "metadata": {},
   "source": [
    "# Mathematical Modeling Project 3\n",
    "## Semiconductor Wafer Production Queuing Model\n",
    "### By: James Tourkistas"
   ]
  },
  {
   "cell_type": "code",
   "execution_count": 1,
   "metadata": {},
   "outputs": [],
   "source": [
    "import numpy as np \n",
    "import matplotlib.pyplot as plt \n",
    "import random \n",
    "import pandas as pd"
   ]
  },
  {
   "cell_type": "markdown",
   "metadata": {},
   "source": [
    "### Poisson Draws for Daily Wafer Orders\n",
    "**$\\begin{align}P\\left( k \\right) = \\frac{{e^{ - \\lambda } \\lambda ^k }}{{x!}}\\end{align}$**"
   ]
  },
  {
   "cell_type": "markdown",
   "metadata": {},
   "source": [
    "$\\begin{align}Parameter:\\end{align}$\n",
    "$\\begin{align}\\lambda=u*\\frac{AnnualProductionCapacity}{DaysInYear}\\end{align}$\n"
   ]
  },
  {
   "cell_type": "code",
   "execution_count": 2,
   "metadata": {},
   "outputs": [],
   "source": [
    "# copy custom Pvar function from pvar.ipynb\n",
    "###Single Poisson Draws. Pick lambda\n",
    "def Pvar(mu): \n",
    "    '''    \n",
    "    Args: \n",
    "        mu :    mean of Poisson random variate \n",
    "        \n",
    "    Returns: \n",
    "        Poisson random variate with mean mu\n",
    "    '''\n",
    "    \n",
    "    r = np.random.uniform()    # number from uniform distribution [0,1)\n",
    "    p = np.exp(-mu)            # Poisson probability\n",
    "    ptot = p                   # will accumulate the probability variate <= k\n",
    "    k = 0                      # trial variate\n",
    "    \n",
    "    while r > ptot: \n",
    "        k += 1\n",
    "        p = p * mu / k         # probability of k + 1 using the recursive relation \n",
    "        ptot += p\n",
    "    \n",
    "    return k"
   ]
  },
  {
   "cell_type": "markdown",
   "metadata": {},
   "source": [
    "#### Note: Formulation of poisson draws from Mathematical Modeling class. "
   ]
  },
  {
   "cell_type": "markdown",
   "metadata": {},
   "source": [
    "### Multinomial Draws (Order Type Breakdown)"
   ]
  },
  {
   "cell_type": "markdown",
   "metadata": {},
   "source": [
    "#### Demand Probabilities by Producible Chip Size:\n",
    "#### (See Calculations Below)\n",
    "**5nm:**.02\n",
    "\n",
    "**7nm:**.17\n",
    "\n",
    "**10nm:**.002\n",
    "\n",
    "**16nm:**.20\n",
    "\n",
    "**20nm:**.009\n",
    "\n",
    "**28nm**:.21\n",
    "\n",
    "**40/45nm**:.18\n",
    "\n",
    "**65nm:**.13\n",
    "\n",
    "**90nm:**.07\n"
   ]
  },
  {
   "cell_type": "code",
   "execution_count": 3,
   "metadata": {},
   "outputs": [],
   "source": [
    "####Stochastic Daily Demand Draws\n",
    "\n",
    "def multinomial_order_type(n):\n",
    "    \n",
    "    '''    \n",
    "    Args: \n",
    "        n :    number of orders for period \n",
    "    \n",
    "    returns breakdown by order type\n",
    "    '''\n",
    "    order_prob=np.array([0.02170595, 0.17131066, 0.00230304, 0.20148758, 0.00931966,\n",
    "       0.20950821, 0.18398519, 0.12817502, 0.0722047 ])  ###See Calculation Below\n",
    "    orders_dict={\"5nm\":0,\"7nm\":0,\"10nm\":0,\"16nm\":0,\"20nm\":0,\"28nm\":0,\"40/45nm\":0,\"65nm\":0,\"90nm\":0}\n",
    "    daily_orders=[]\n",
    "    \n",
    "    for i in range(n):\n",
    "        unif=np.random.rand(1)\n",
    "        if unif<np.sum(order_prob[:1]):\n",
    "            daily_orders.append(\"5nm\")\n",
    "        elif unif<np.sum(order_prob[:2]):\n",
    "            daily_orders.append(\"7nm\")\n",
    "        elif unif<np.sum(order_prob[:3]):\n",
    "            daily_orders.append(\"10nm\")\n",
    "        elif unif<np.sum(order_prob[:4]):\n",
    "            daily_orders.append(\"16nm\")\n",
    "        elif unif<np.sum(order_prob[:5]):\n",
    "            daily_orders.append(\"20nm\")\n",
    "        elif unif<np.sum(order_prob[:6]):\n",
    "            daily_orders.append(\"28nm\")\n",
    "        elif unif<np.sum(order_prob[:7]):\n",
    "            daily_orders.append(\"40/45nm\")\n",
    "        elif unif<np.sum(order_prob[:8]):\n",
    "            daily_orders.append(\"65nm\")\n",
    "        else:\n",
    "            daily_orders.append(\"90nm\")\n",
    "    \n",
    "    ###Add Random Draws to Dictionary d\n",
    "    d = {x:daily_orders.count(x) for x in daily_orders}\n",
    "    \n",
    "    ###Add 0 to dictionary for chips without orders\n",
    "    for k in d.keys():\n",
    "        orders_dict[k]=d[k]\n",
    "        \n",
    "    return orders_dict \n",
    "#pd.DataFrame(pd.DataFrame(demand_vec)[0].value_counts()).reset_index()\n",
    "\n"
   ]
  },
  {
   "cell_type": "markdown",
   "metadata": {},
   "source": [
    "### Set Parameters:\n",
    "\n",
    "**$\\begin{align}tmax:\\end{align}$** days to run model.\n",
    "\n",
    "**$\\begin{align}qmax:\\end{align}$** vector representing maximum queued orders allowed for machine.\n",
    "\n",
    "**$\\begin{align}Wafers Per Day:\\end{align}$** vector representing average # of wafers produced per day by each machine type.\n",
    "\n",
    "**$\\begin{align}nmachines:\\end{align}$** number of different wafer type machines\n",
    "\n",
    " $\\begin{align}u:\\end{align}$ fab capacity utilization parameter between 0 and 1 depending on average plant capacity used.\n",
    " "
   ]
  },
  {
   "cell_type": "code",
   "execution_count": 4,
   "metadata": {},
   "outputs": [],
   "source": [
    "###Initial Variables\n",
    "# Set Up Parameters for Model. \n",
    "nmachines = 9  ###Machines Types\n",
    "tmax=10  ###Days Model Run For\n",
    "col_nams=[\"5nm\",\"7nm\",\"10nm\",\"16nm\",\"20nm\",\"28nm\",\"40/45nm\",\"65nm\",\"90nm\"]   ###Types of Wafers Produced\n",
    "qmax=np.array([2,3,2,2,100,100,100,100,100]) ###Maximum orders for each machine type\n",
    "wafers_per_day=np.array([5,10,15,30,50,70,60,100,500]) ##Maximum daily processing capacity for each machine\n"
   ]
  },
  {
   "cell_type": "markdown",
   "metadata": {},
   "source": [
    "### Multiple Machine Capacity Queuing Model: \n"
   ]
  },
  {
   "cell_type": "code",
   "execution_count": 5,
   "metadata": {},
   "outputs": [
    {
     "name": "stdout",
     "output_type": "stream",
     "text": [
      "Total Orders: 3279\n",
      "Wait Time: 0.004595588235294118\n",
      "Machine Idle Time: 13.785047619047615\n",
      "Incomplete Orders: 15\n"
     ]
    }
   ],
   "source": [
    "###Initialize Variables to 0\n",
    "total_orders=0\n",
    "idle=0\n",
    "idle_list=[]\n",
    "lost=0\n",
    "wait=0\n",
    "wait_list=[]\n",
    "t=0\n",
    "q=[] #an empty queue\n",
    "lost_orders=[]\n",
    "machines=np.zeros((nmachines,1)) # all machines free to start\n",
    "q = [[] for _ in range(nmachines)]# each machine's queue starts empty,\n",
    "df = pd.DataFrame(columns=col_nams)\n",
    "u=1\n",
    "###RUN MODEL\n",
    "\n",
    "while t < tmax:\n",
    "    \n",
    "    t=t+1 # first, let time pass\n",
    "    \n",
    "    new_orders=Pvar(u*(120000/365))  ##New Orders drawn from Poisson Distribution\n",
    "    \n",
    "    total_orders=total_orders+new_orders  ###Order Tally\n",
    "    \n",
    "    orders_dict=multinomial_order_type(new_orders) ###Order Breakdown from Multinomial Distribution\n",
    "    \n",
    "    df = df.append(orders_dict, ignore_index = True)  ###Append New Orders To Table\n",
    "    \n",
    "    ###Create an array with order counts\n",
    "    \n",
    "    wafer_breakdown=np.array([orders_dict[\"5nm\"],orders_dict[\"7nm\"],orders_dict[\"10nm\"],orders_dict[\"16nm\"],orders_dict[\"20nm\"],orders_dict[\"28nm\"],orders_dict[\"40/45nm\"],orders_dict[\"65nm\"],orders_dict[\"90nm\"]])\n",
    "    \n",
    "    ####ADD NEW ORDERS TO MACHINE QUEUE\n",
    "    \n",
    "    for k in range(nmachines):\n",
    "        \n",
    "        if len(q[k]) < qmax[k]: # Check Machine Queue.  \n",
    "            q[k].append([t,wafer_breakdown[k]]) # [time of arrival, time to complete] Service time follows a shifted Poisson distribution\n",
    "    \n",
    "        ###REFUSE ORDERS EXCEEDING MAXIMUM CAPACITY for MACHINE\n",
    "        \n",
    "        else:\n",
    "            lost_orders.append(col_nams[k])\n",
    "            lost_orders.append(wafer_breakdown[k])\n",
    "            lost=lost+1 \n",
    "    \n",
    "    ###ROUTE ORDERS TO MACHINE AND COMPLETE ORDERS\n",
    "    \n",
    "    for i in range(nmachines):\n",
    "            \n",
    "        if machines[i] >= wafers_per_day[i]:\n",
    "            machines[i]-=wafers_per_day[i] #If queued order is above wafer per day capacity, reduce by capacity\n",
    "        \n",
    "        elif machines[i]< wafers_per_day[i]:\n",
    "            \n",
    "            qlength = len(q[i])\n",
    "            \n",
    "            if qlength > 0:\n",
    "                \n",
    "                ###REMOVE ORDER(S) FROM QUEUE TO UTILIZE EXCESS MACHINE CAPACITY \n",
    "                wt=t-q[i][0][0] ###Calculate Wait Time From Earliest Order. \n",
    "                wait_list.append(col_nams[i])\n",
    "                wait_list.append(wt)\n",
    "                wait +=wt  \n",
    "                b=qlength*2+1\n",
    "                extra_capacity=wafers_per_day[i]-machines[i]\n",
    "                arr=np.hstack(q[i])[1:b:2]   ####Retrieve Only Order Values\n",
    "                index=np.sum(np.cumsum(arr)<=extra_capacity) ####Find Index Greater Than Given Capacity\n",
    "                ind_plus=index+1\n",
    "                machines[i]=np.sum(arr[0:ind_plus])-extra_capacity ###Add Incomplete Portion of Order to Machine\n",
    "              \n",
    "                ##Set negative to 0\n",
    "                if machines[i]<0:\n",
    "                    idlt=1-((-machines[i])/wafers_per_day[i]) ##Calculate idle time\n",
    "                    idle_list.append(col_nams[i])\n",
    "                    idle_list.append(idlt[0])\n",
    "                    idle=idle+idlt ###Add Idle Time To Idle\n",
    "                    machines[i]=0 ####Set q to 0 if extra capacity exceeds orders in queue\n",
    "                \n",
    "                \n",
    "                q[i]=q[i][ind_plus:][:] ###Remove orders from queue\n",
    "                \n",
    "            else: \n",
    "                q[i] = []  #IF ALL QUEUED JOBS COMPLETE, SET QUEUE TO NO ORDER STATUS\n",
    "                idlt=1-(machines[i]/wafers_per_day[i]) ##Calculate idle time\n",
    "                idle_list.append(col_nams[i])\n",
    "                idle_list.append(idlt[0])\n",
    "                idle=idle+idlt  ###Add Idle Time To Idle\n",
    "                machines[i]=0\n",
    "                \n",
    "                \n",
    "##### AT END OF TIME COUNT LOST JOBS\n",
    "for i in range(nmachines): \n",
    "    lost += len(q[i]);  # Orders Remaining At End of Period Are Lost \n",
    "    m=len(q[i])*2+1\n",
    "    if m>1:\n",
    "        lost_orders.append(col_nams[i])\n",
    "        lost_orders.append(np.sum(np.hstack(q[i])[1:m:2])) ###Add Left Over Orders to Lost Orders\n",
    "        \n",
    "wait = wait/(total_orders-lost);  # average wait of those who joined the queue \n",
    "\n",
    "print('Total Orders:', total_orders)\n",
    "print('Wait Time:', wait)\n",
    "print('Machine Idle Time:', idle[0])\n",
    "print('Incomplete Orders:', lost)\n",
    "\n",
    "###Calculate Completed and Missed Orders for Each Category\n",
    "if len(lost_orders)>0:\n",
    "    lost_orders_df=pd.DataFrame(columns=[\"lost_order_quantity\",\"type\"])\n",
    "    lost_orders_df[\"type\"]=lost_orders[0::2]\n",
    "    lost_orders_df[\"lost_order_quantity\"]=lost_orders[1::2]\n",
    "    lo=lost_orders_df.groupby(\"type\")[\"lost_order_quantity\"].sum()\n",
    "    \n"
   ]
  },
  {
   "cell_type": "markdown",
   "metadata": {},
   "source": [
    "**Note:** Each order includes multiple wafers of the same type. "
   ]
  },
  {
   "cell_type": "markdown",
   "metadata": {},
   "source": [
    "### Idle Time  Breakdown by Machine"
   ]
  },
  {
   "cell_type": "code",
   "execution_count": 6,
   "metadata": {},
   "outputs": [],
   "source": [
    "###Calculate Idle Machine Time for Each Category\n",
    "\n",
    "idletime_df=pd.DataFrame(columns=[\"idle_time\",\"type\"])\n",
    "idletime_df[\"type\"]=idle_list[0::2]\n",
    "idletime_df[\"idle_time\"]=idle_list[1::2]\n",
    "it=idletime_df.groupby(\"type\")[\"idle_time\"].sum()"
   ]
  },
  {
   "cell_type": "markdown",
   "metadata": {},
   "source": [
    "### Total Wait Time  by Machine"
   ]
  },
  {
   "cell_type": "code",
   "execution_count": 7,
   "metadata": {},
   "outputs": [],
   "source": [
    "waittime_df=pd.DataFrame(columns=[\"wait_time\",\"type\"])\n",
    "waittime_df[\"type\"]=wait_list[0::2]\n",
    "waittime_df[\"wait_time\"]=wait_list[1::2]\n",
    "wt2=waittime_df.groupby(\"type\")[\"wait_time\"].sum()"
   ]
  },
  {
   "cell_type": "markdown",
   "metadata": {},
   "source": [
    "### Final Wafer Breakdown: Completed vs Missed Orders"
   ]
  },
  {
   "cell_type": "code",
   "execution_count": 8,
   "metadata": {},
   "outputs": [
    {
     "data": {
      "text/html": [
       "<div>\n",
       "<style scoped>\n",
       "    .dataframe tbody tr th:only-of-type {\n",
       "        vertical-align: middle;\n",
       "    }\n",
       "\n",
       "    .dataframe tbody tr th {\n",
       "        vertical-align: top;\n",
       "    }\n",
       "\n",
       "    .dataframe thead th {\n",
       "        text-align: right;\n",
       "    }\n",
       "</style>\n",
       "<table border=\"1\" class=\"dataframe\">\n",
       "  <thead>\n",
       "    <tr style=\"text-align: right;\">\n",
       "      <th></th>\n",
       "      <th>Possible Wafer Orders</th>\n",
       "      <th>Missed Orders</th>\n",
       "      <th>Idle Time</th>\n",
       "      <th>Total Wait</th>\n",
       "      <th>Completed Wafers</th>\n",
       "      <th>Est. Sale Price ($)</th>\n",
       "      <th>Period Revenue ($)</th>\n",
       "    </tr>\n",
       "  </thead>\n",
       "  <tbody>\n",
       "    <tr>\n",
       "      <td>5nm</td>\n",
       "      <td>66.0</td>\n",
       "      <td>14.0</td>\n",
       "      <td>0.800000</td>\n",
       "      <td>3</td>\n",
       "      <td>52.0</td>\n",
       "      <td>16988</td>\n",
       "      <td>883376.0</td>\n",
       "    </tr>\n",
       "    <tr>\n",
       "      <td>7nm</td>\n",
       "      <td>575.0</td>\n",
       "      <td>467.0</td>\n",
       "      <td>0.000000</td>\n",
       "      <td>3</td>\n",
       "      <td>108.0</td>\n",
       "      <td>9346</td>\n",
       "      <td>1009368.0</td>\n",
       "    </tr>\n",
       "    <tr>\n",
       "      <td>10nm</td>\n",
       "      <td>16.0</td>\n",
       "      <td>0.0</td>\n",
       "      <td>1.066667</td>\n",
       "      <td>0</td>\n",
       "      <td>16.0</td>\n",
       "      <td>5992</td>\n",
       "      <td>95872.0</td>\n",
       "    </tr>\n",
       "    <tr>\n",
       "      <td>16nm</td>\n",
       "      <td>661.0</td>\n",
       "      <td>299.0</td>\n",
       "      <td>0.000000</td>\n",
       "      <td>9</td>\n",
       "      <td>362.0</td>\n",
       "      <td>3984</td>\n",
       "      <td>1442208.0</td>\n",
       "    </tr>\n",
       "    <tr>\n",
       "      <td>20nm</td>\n",
       "      <td>42.0</td>\n",
       "      <td>0.0</td>\n",
       "      <td>0.840000</td>\n",
       "      <td>0</td>\n",
       "      <td>42.0</td>\n",
       "      <td>3677</td>\n",
       "      <td>154434.0</td>\n",
       "    </tr>\n",
       "    <tr>\n",
       "      <td>28nm</td>\n",
       "      <td>694.0</td>\n",
       "      <td>0.0</td>\n",
       "      <td>2.885714</td>\n",
       "      <td>0</td>\n",
       "      <td>694.0</td>\n",
       "      <td>2891</td>\n",
       "      <td>2006354.0</td>\n",
       "    </tr>\n",
       "    <tr>\n",
       "      <td>40/45nm</td>\n",
       "      <td>569.0</td>\n",
       "      <td>0.0</td>\n",
       "      <td>3.416667</td>\n",
       "      <td>0</td>\n",
       "      <td>569.0</td>\n",
       "      <td>2274</td>\n",
       "      <td>1293906.0</td>\n",
       "    </tr>\n",
       "    <tr>\n",
       "      <td>65nm</td>\n",
       "      <td>433.0</td>\n",
       "      <td>0.0</td>\n",
       "      <td>4.330000</td>\n",
       "      <td>0</td>\n",
       "      <td>433.0</td>\n",
       "      <td>1937</td>\n",
       "      <td>838721.0</td>\n",
       "    </tr>\n",
       "    <tr>\n",
       "      <td>90nm</td>\n",
       "      <td>223.0</td>\n",
       "      <td>0.0</td>\n",
       "      <td>0.446000</td>\n",
       "      <td>0</td>\n",
       "      <td>223.0</td>\n",
       "      <td>1650</td>\n",
       "      <td>367950.0</td>\n",
       "    </tr>\n",
       "  </tbody>\n",
       "</table>\n",
       "</div>"
      ],
      "text/plain": [
       "         Possible Wafer Orders  Missed Orders  Idle Time  Total Wait  \\\n",
       "5nm                       66.0           14.0   0.800000           3   \n",
       "7nm                      575.0          467.0   0.000000           3   \n",
       "10nm                      16.0            0.0   1.066667           0   \n",
       "16nm                     661.0          299.0   0.000000           9   \n",
       "20nm                      42.0            0.0   0.840000           0   \n",
       "28nm                     694.0            0.0   2.885714           0   \n",
       "40/45nm                  569.0            0.0   3.416667           0   \n",
       "65nm                     433.0            0.0   4.330000           0   \n",
       "90nm                     223.0            0.0   0.446000           0   \n",
       "\n",
       "         Completed Wafers  Est. Sale Price ($)  Period Revenue ($)  \n",
       "5nm                  52.0                16988            883376.0  \n",
       "7nm                 108.0                 9346           1009368.0  \n",
       "10nm                 16.0                 5992             95872.0  \n",
       "16nm                362.0                 3984           1442208.0  \n",
       "20nm                 42.0                 3677            154434.0  \n",
       "28nm                694.0                 2891           2006354.0  \n",
       "40/45nm             569.0                 2274           1293906.0  \n",
       "65nm                433.0                 1937            838721.0  \n",
       "90nm                223.0                 1650            367950.0  "
      ]
     },
     "execution_count": 8,
     "metadata": {},
     "output_type": "execute_result"
    }
   ],
   "source": [
    "order_stats=pd.DataFrame(df.sum(axis=0))\n",
    "order_stats=order_stats.join(pd.DataFrame(lo)).fillna(0)\n",
    "order_stats=order_stats.join(pd.DataFrame(it)).fillna(0)\n",
    "order_stats=order_stats.join(pd.DataFrame(wt2)).fillna(0)\n",
    "order_stats.columns = ['Possible Wafer Orders', 'Missed Orders',\"Idle Time\",\"Total Wait\"]\n",
    "order_stats[\"Completed Wafers\"]=order_stats['Possible Wafer Orders']-order_stats['Missed Orders']\n",
    "Unit_Price_Breakdown=np.array([16988,9346,5992,3984,3677,2891,2274,1937,1650])\n",
    "#See Kahn at 44.\n",
    "order_stats[\"Est. Sale Price ($)\"]=Unit_Price_Breakdown\n",
    "order_stats[\"Period Revenue ($)\"]=order_stats[\"Est. Sale Price ($)\"]*order_stats[\"Completed Wafers\"]\n",
    "\n",
    "order_stats"
   ]
  },
  {
   "cell_type": "code",
   "execution_count": 9,
   "metadata": {},
   "outputs": [],
   "source": [
    "order_stats2=order_stats.reset_index()"
   ]
  },
  {
   "cell_type": "markdown",
   "metadata": {},
   "source": [
    "### Plots"
   ]
  },
  {
   "cell_type": "code",
   "execution_count": 10,
   "metadata": {},
   "outputs": [
    {
     "data": {
      "text/plain": [
       "Text(0, 0.5, 'Missed Orders')"
      ]
     },
     "execution_count": 10,
     "metadata": {},
     "output_type": "execute_result"
    },
    {
     "data": {
      "image/png": "[encoded data removed]",
      "text/plain": [
       "<Figure size 1584x432 with 3 Axes>"
      ]
     },
     "metadata": {
      "needs_background": "light"
     },
     "output_type": "display_data"
    }
   ],
   "source": [
    "plt.figure(figsize=(22,6))\n",
    "plt.subplot(1, 3, 1)\n",
    "plt.title('Period Revenue', fontweight=\"bold\")\n",
    "\n",
    "plt.bar(order_stats2[\"index\"],order_stats2[\"Period Revenue ($)\"])\n",
    "\n",
    "plt.xlabel('Wafer Type')\n",
    "plt.ylabel('Predicted Revenue ($)')\n",
    "\n",
    "\n",
    "plt.subplot(1, 3, 2)\n",
    "plt.title('Quantity Produced', fontweight=\"bold\")\n",
    "\n",
    "plt.bar(order_stats2[\"index\"],order_stats2[\"Completed Wafers\"])\n",
    "plt.xlabel('Wafer Type')\n",
    "plt.ylabel('Predicted Quantity Produced')\n",
    "\n",
    "plt.subplot(1, 3, 3)\n",
    "plt.title('Missed Orders', fontweight=\"bold\")\n",
    "\n",
    "plt.bar(order_stats2[\"index\"],order_stats2['Missed Orders'])\n",
    "plt.xlabel('Wafer Type')\n",
    "plt.ylabel('Missed Orders')\n",
    "\n"
   ]
  },
  {
   "cell_type": "code",
   "execution_count": 11,
   "metadata": {},
   "outputs": [
    {
     "data": {
      "text/plain": [
       "Text(0, 0.5, 'Summed Idle Time')"
      ]
     },
     "execution_count": 11,
     "metadata": {},
     "output_type": "execute_result"
    },
    {
     "data": {
      "image/png": "[encoded data removed]",
      "text/plain": [
       "<Figure size 1008x288 with 2 Axes>"
      ]
     },
     "metadata": {
      "needs_background": "light"
     },
     "output_type": "display_data"
    }
   ],
   "source": [
    "plt.figure(figsize=(14,4))\n",
    "plt.subplot(1, 2, 1)\n",
    "plt.title('Wait Time', fontweight=\"bold\")\n",
    "\n",
    "plt.bar(order_stats2[\"index\"],order_stats2[\"Total Wait\"])\n",
    "\n",
    "plt.xlabel('Wafer Type')\n",
    "plt.ylabel('Summed Wait Time')\n",
    "\n",
    "\n",
    "plt.subplot(1, 2, 2)\n",
    "plt.title('Idle Time', fontweight=\"bold\")\n",
    "\n",
    "plt.bar(order_stats2[\"index\"],order_stats2[\"Idle Time\"])\n",
    "plt.xlabel('Wafer Type')\n",
    "plt.ylabel('Summed Idle Time')"
   ]
  },
  {
   "cell_type": "code",
   "execution_count": 12,
   "metadata": {},
   "outputs": [
    {
     "name": "stdout",
     "output_type": "stream",
     "text": [
      "Estimated Revenue from Sales Over Period (10 days):$ 8092189.0\n"
     ]
    }
   ],
   "source": [
    "print(f\"Estimated Revenue from Sales Over Period ({tmax} days):$\", sum(order_stats[\"Period Revenue ($)\"]))"
   ]
  },
  {
   "cell_type": "markdown",
   "metadata": {},
   "source": [
    "### Calculations: Demand Probability by Chip Type for Multinomial Draws \n",
    "The model draws its inspiration from Taiwan Semiconductor Manufacturing Company (TSMC). TSMC currently runs \"four 12-inch wafer GIGAFAB® fabs, four 8-inch wafer fabs, one 6-inch wafer fab, one 12-inch wafer fab, and two 8-inch wafer fabs. They plan to build a new 5nm fab in Arizona with 20,000 semiconductor wafers per month. TSMC's total wafer production capacity is 12,000,0000 12 inch equivilant wafers. TSMC 2020 Annual Report. Since they are such a large wafer company, we assumed their sales would be representative of demand. "
   ]
  },
  {
   "cell_type": "code",
   "execution_count": 13,
   "metadata": {},
   "outputs": [
    {
     "data": {
      "text/plain": [
       "array([0.14, 0.35, 0.  , 0.14, 0.  , 0.11, 0.07, 0.05, 0.03, 0.03, 0.06,\n",
       "       0.02])"
      ]
     },
     "execution_count": 13,
     "metadata": {},
     "output_type": "execute_result"
    }
   ],
   "source": [
    "# TSMC Revenue Breakdown: From TSCM Quarterly Presentation Q1 2021\n",
    "\n",
    "#5nm,7nm,10nm,16nm,20nm,28nm,40/45nm,65nm,90nm,.11/.13um, .15/.18um,.25um+\n",
    "##Revenue Percents\n",
    "Q1_2021=np.array([.14,.35,0,.14,0,.11,.07,.05,.03,.03,.06,.02])\n",
    "###Wafer Shipment\n",
    "Q4_2020=np.array([.20,.29,0,.13,.01,.11,.08,.05,.02,.03,.07,.01])\n",
    "Q3_2020=np.array([.14,.35,0,.14,0,.11,.07,.05,.03,.03,.06,.02])\n",
    "Q1_2021\n",
    "\n"
   ]
  },
  {
   "cell_type": "code",
   "execution_count": 14,
   "metadata": {},
   "outputs": [],
   "source": [
    "###2020 Revenue Breakdown \n",
    "\n",
    "#5nm,7nm,10nm,16nm,20nm,28nm,40/45nm,65nm,90nm, .11/.13um, .15/.18um,.25um+\n",
    "all_rev_breakdown=np.array([90934485,394836964,3403151,197959003,8450865,149367729,103176542,61226671,29380358,33197137,86008475,20514893])\n",
    "\n",
    "###5nm,7nm,10nm,16nm,20nm,28nm,40/45nm,65nm,90nm\n",
    "NM_Rev_Breakdown=np.array([90934485,394836964,3403151,197959003,8450865,149367729,103176542,61226671,29380358])\n",
    "\n",
    "#See TSMC 2020 Annual Report at 52.\n",
    "\n",
    "Unit_Price_Breakdown=np.array([16988,9346,5992,3984,3677,2891,2274,1937,1650])\n",
    "\n",
    "#See Kahn at 44."
   ]
  },
  {
   "cell_type": "markdown",
   "metadata": {},
   "source": [
    "#### TSMC did not report category price so we divided reported revenue by projected prices from Kahn paper. "
   ]
  },
  {
   "cell_type": "code",
   "execution_count": 15,
   "metadata": {},
   "outputs": [
    {
     "data": {
      "text/plain": [
       "array([ 5352.86584648, 42246.62572223,   567.9490988 , 49688.50476908,\n",
       "        2298.30432418, 51666.45762712, 45372.2700088 , 31609.01961797,\n",
       "       17806.27757576])"
      ]
     },
     "execution_count": 15,
     "metadata": {},
     "output_type": "execute_result"
    }
   ],
   "source": [
    "###5nm,7nm,10nm,16nm,20nm,28nm,40/45nm,65nm,90nm\n",
    "Q_Breakdown=NM_Rev_Breakdown/Unit_Price_Breakdown\n",
    "Q_Breakdown"
   ]
  },
  {
   "cell_type": "markdown",
   "metadata": {},
   "source": [
    "#### Probabilities Used for Multinomial Model\n",
    "\n",
    "\n",
    "$\\begin{align}p_i=\\frac{\\frac{c_i}{\\pi_i}}{\\sum_{i=1}^{i}(\\frac{c_i}{\\pi_i})}\\end{align}$\n",
    "\n",
    "**c:** annual chip type revenue\n",
    "\n",
    "**π:** average chip type price"
   ]
  },
  {
   "cell_type": "code",
   "execution_count": 16,
   "metadata": {},
   "outputs": [
    {
     "data": {
      "text/plain": [
       "array([0.02170595, 0.17131066, 0.00230304, 0.20148758, 0.00931966,\n",
       "       0.20950821, 0.18398519, 0.12817502, 0.0722047 ])"
      ]
     },
     "execution_count": 16,
     "metadata": {},
     "output_type": "execute_result"
    }
   ],
   "source": [
    "###5nm,7nm,10nm,16nm,20nm,28nm,40/45nm,65nm,90nm\n",
    "#Normalized\n",
    "Q_Probability=Q_Breakdown/np.sum(Q_Breakdown)\n",
    "Q_Probability"
   ]
  },
  {
   "cell_type": "markdown",
   "metadata": {},
   "source": [
    "**References:**\n",
    "\n",
    "1) McClean, E. 2018. Advanced Technology Key to Strong Foundry Revenue per Wafer. [online] IC Insights. Available at: <https://www.icinsights.com/data/articles/documents/1108.pdf> [Accessed 4 May 2021].\n",
    "\n",
    "2) Kahn, S et al. 2020. AI Chips: What They Are and Why They Matter. [online] Georgetown Center for Security and Emerging Technology. Available at: <https://cset.georgetown.edu/research/ai-chips-what-they-are-and-why-they-matter> [Accessed 4 May 2021]. https://doi.org/10.51593/20190014\n",
    "\n",
    "3) McClean, E. 2018. Revenue per Wafer Climbs As Demand Surges for 5nm/7nm IC Processes. [online] IC Insights. Available at: <https://www.icinsights.com/data/articles/documents/1350.pdf> [Accessed 4 May 2021].\n",
    "\n",
    "4) Zafar, R. 2019. Apple A13 & Beyond: How Transistor Count And Costs Will Go Up. [online] wccftech. Available at: <https://wccftech.com/apple-5nm-3nm-cost-transistors/> [Accessed 4 May 2021].\n",
    "\n",
    "\n",
    "5) Su, Jeff. April 2021. TSMC Quarterly Management Report. [online] TSMC. Available at: <https://investor.tsmc.com/english/encrypt/files/encrypt_file/reports/2021-04/c3503e3be4f98cd83817a8abff6e4586deaa3904/1Q21ManagementReport.pdf> [Accessed 5 May 2021].\n",
    "\n",
    "6) TSMC. 2020. TSMC Annual Report. [online] TSMC. Available at: <ttps://investor.tsmc.com/sites/ir/annual-report/2020/2020Annual%20Report_E_%20.pdf> [Accessed 5 May 2021].\n",
    "\n",
    "#### Note: Code was created by adapting Math Modeling module multiserver queueing materials."
   ]
  },
  {
   "cell_type": "markdown",
   "metadata": {},
   "source": [
    "## Deterministic Model (Still Under Construction):"
   ]
  },
  {
   "cell_type": "code",
   "execution_count": 17,
   "metadata": {},
   "outputs": [],
   "source": [
    "from scipy.integrate import solve_ivp\n",
    "from scipy.integrate import odeint\n",
    "from collections import Counter"
   ]
  },
  {
   "cell_type": "code",
   "execution_count": 18,
   "metadata": {},
   "outputs": [],
   "source": [
    "###TSMC Price Per 300mm Wafer by Feature Size\n",
    "\n",
    "nm5=16746\n",
    "nm7=9213\n",
    "nm10=5907\n",
    "nm12_16=3927\n",
    "###Initial Inventory Capacity\n",
    "u=1  ####Utilization\n",
    "c=120000  #approximate quantity sold 30000 per month.\n",
    "##Other Parameters\n",
    "\n",
    "K_hat=-5400000000 ###Capital Investment\n",
    "L=3000*164000  ### Annual Labor (Employees*Avg Salary)\n",
    "\n",
    "K=(1000000000-L)  #### Non-Labor Operating Expenses\n",
    "I_0=K_hat  #### Initial Profits\n",
    "Q_0=u*c \n",
    "R_0=0\n",
    "###Initial Inventory Capacity\n",
    "p=nm5 #2019 sales for TSMC foundary\n",
    "r=q*p\n",
    "\n",
    "#u=np.random.uniform(.5,1,6)"
   ]
  },
  {
   "cell_type": "code",
   "execution_count": 19,
   "metadata": {},
   "outputs": [],
   "source": [
    "###Semiconductor Model\n",
    "t=np.linspace(0,5,6)\n",
    "x_0=[Q_0,R_0,I_0]\n",
    "def SM(x,t):\n",
    "    Q,R,I = x\n",
    "    dxSM= np.zeros(3)\n",
    "    dxSM[0]=0 #Q\n",
    "    dxSM[1]=Q*p-R #R \n",
    "    dxSM[2]=Q*p-L-K #I(ROI)\n",
    "    return dxSM\n",
    "\n",
    "\n"
   ]
  },
  {
   "cell_type": "code",
   "execution_count": 20,
   "metadata": {},
   "outputs": [
    {
     "data": {
      "text/plain": [
       "array([0., 1., 2., 3., 4., 5.])"
      ]
     },
     "execution_count": 20,
     "metadata": {},
     "output_type": "execute_result"
    }
   ],
   "source": [
    "####ODE INT METHOD (allows for multidimensional matrix)\n",
    "sol_SM=odeint(SM,x_0,t)\n",
    "t\n",
    "\n"
   ]
  },
  {
   "cell_type": "code",
   "execution_count": 21,
   "metadata": {},
   "outputs": [],
   "source": [
    "###Get Model Predictions\n",
    "Q_Pred=sol_SM[:,0]\n",
    "R_Pred=sol_SM[:,1]\n",
    "I_Pred=sol_SM[:,2]"
   ]
  },
  {
   "cell_type": "code",
   "execution_count": 22,
   "metadata": {},
   "outputs": [
    {
     "data": {
      "text/plain": [
       "<matplotlib.legend.Legend at 0x1524239550>"
      ]
     },
     "execution_count": 22,
     "metadata": {},
     "output_type": "execute_result"
    },
    {
     "data": {
      "text/plain": [
       "<Figure size 576x576 with 0 Axes>"
      ]
     },
     "metadata": {},
     "output_type": "display_data"
    },
    {
     "data": {
      "image/png": "[encoded data removed]",
      "text/plain": [
       "<Figure size 1152x432 with 3 Axes>"
      ]
     },
     "metadata": {
      "needs_background": "light"
     },
     "output_type": "display_data"
    }
   ],
   "source": [
    "plt.figure(figsize=(8,8))\n",
    "plt.figure(figsize=(16,6))\n",
    "plt.subplot(1, 3, 1)\n",
    "plt.title('Q', fontweight=\"bold\")\n",
    "\n",
    "plt.plot(t,Q_Pred, color=\"black\", label='Semiconductor Wafer Quantity')\n",
    "\n",
    "plt.xlabel('Years')\n",
    "plt.ylabel('Q')\n",
    "plt.legend()\n",
    "\n",
    "plt.subplot(1, 3, 2)\n",
    "plt.title('I', fontweight=\"bold\")\n",
    "\n",
    "plt.plot(t,I_Pred, color=\"green\", label='ROI')\n",
    "plt.axhline(y=0, color=\"red\", linestyle='--')\n",
    "plt.xlabel('Years')\n",
    "plt.ylabel('ROI')\n",
    "plt.legend()\n",
    "\n",
    "plt.subplot(1, 3, 3)\n",
    "plt.title('R', fontweight=\"bold\")\n",
    "\n",
    "plt.plot(t,R_Pred, color=\"blue\", label='Revenue')\n",
    "\n",
    "plt.xlabel('Years')\n",
    "plt.ylabel('Total Revenue')\n",
    "plt.legend()\n",
    "\n",
    "####Note: It takes a year to get up to full capacity. "
   ]
  },
  {
   "cell_type": "code",
   "execution_count": null,
   "metadata": {},
   "outputs": [],
   "source": []
  },
  {
   "cell_type": "code",
   "execution_count": null,
   "metadata": {},
   "outputs": [],
   "source": []
  }
 ],
 "metadata": {
  "kernelspec": {
   "display_name": "Python 3",
   "language": "python",
   "name": "python3"
  },
  "language_info": {
   "codemirror_mode": {
    "name": "ipython",
    "version": 3
   },
   "file_extension": ".py",
   "mimetype": "text/x-python",
   "name": "python",
   "nbconvert_exporter": "python",
   "pygments_lexer": "ipython3",
   "version": "3.7.4"
  }
 },
 "nbformat": 4,
 "nbformat_minor": 2
}
